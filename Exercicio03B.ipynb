{
 "cells": [
  {
   "cell_type": "markdown",
   "metadata": {},
   "source": [
    "### Disciplina: Projeto Data Warehouse\n",
    "\n",
    "### PROFª: Juliana Forin Pasquini Martinez\n",
    "\n",
    "#### ALUNOS: Henrique Zucareli Santiago, Marcelo Pereira Fernandes\n",
    "\n",
    "#### OBJETIVO: Analisar vendas de uma rede de lojas\n",
    "\n",
    "Baixar dados de: https://drive.google.com/file/d/1snkXBakN3Yo_imKamUCtdz2ZYpIXF3KD/view?usp=sharing"
   ]
  },
  {
   "cell_type": "markdown",
   "metadata": {},
   "source": [
    "### Importando panda"
   ]
  },
  {
   "cell_type": "code",
   "execution_count": 15,
   "metadata": {
    "scrolled": false
   },
   "outputs": [],
   "source": [
    "#importando panda\n",
    "import pandas as pd"
   ]
  },
  {
   "cell_type": "markdown",
   "metadata": {},
   "source": [
    "### Importanto Base de dados do arquivo csv"
   ]
  },
  {
   "cell_type": "code",
   "execution_count": 16,
   "metadata": {},
   "outputs": [],
   "source": [
    "#importandobase de dados arquivo csv\n",
    "data = pd.read_csv('Vendas.csv', encoding = 'Latin 1', sep = ';')"
   ]
  },
  {
   "cell_type": "markdown",
   "metadata": {},
   "source": [
    "### Especificando o Cabeçalho do Arquivo"
   ]
  },
  {
   "cell_type": "code",
   "execution_count": 17,
   "metadata": {},
   "outputs": [],
   "source": [
    "#Especificando o cabeçalho do arquivo\n",
    "data = pd.read_csv('Vendas.csv', encoding = 'Latin 1', sep = ';', header = 0)"
   ]
  },
  {
   "cell_type": "markdown",
   "metadata": {},
   "source": [
    "### Selecionando Colunas"
   ]
  },
  {
   "cell_type": "code",
   "execution_count": 18,
   "metadata": {},
   "outputs": [],
   "source": [
    "data = pd.read_csv('Vendas.csv', encoding = 'Latin 1', sep = ';', usecols = ['COD_VENDA','DATA', 'ID_LOJA', 'PRODUTO', 'QUANTIDADE','VR_UNIT', 'VR_FINAL'])"
   ]
  },
  {
   "cell_type": "markdown",
   "metadata": {},
   "source": [
    "### Visualização da tabela de Dados"
   ]
  },
  {
   "cell_type": "code",
   "execution_count": 19,
   "metadata": {
    "scrolled": true
   },
   "outputs": [
    {
     "data": {
      "text/html": [
       "<div>\n",
       "<style scoped>\n",
       "    .dataframe tbody tr th:only-of-type {\n",
       "        vertical-align: middle;\n",
       "    }\n",
       "\n",
       "    .dataframe tbody tr th {\n",
       "        vertical-align: top;\n",
       "    }\n",
       "\n",
       "    .dataframe thead th {\n",
       "        text-align: right;\n",
       "    }\n",
       "</style>\n",
       "<table border=\"1\" class=\"dataframe\">\n",
       "  <thead>\n",
       "    <tr style=\"text-align: right;\">\n",
       "      <th></th>\n",
       "      <th>COD_VENDA</th>\n",
       "      <th>DATA</th>\n",
       "      <th>ID_LOJA</th>\n",
       "      <th>PRODUTO</th>\n",
       "      <th>QUANTIDADE</th>\n",
       "      <th>VR_UNIT</th>\n",
       "      <th>VR_FINAL</th>\n",
       "    </tr>\n",
       "  </thead>\n",
       "  <tbody>\n",
       "    <tr>\n",
       "      <th>0</th>\n",
       "      <td>1</td>\n",
       "      <td>01/01/2019</td>\n",
       "      <td>Iguatemi Esplanada</td>\n",
       "      <td>Sapato Estampa</td>\n",
       "      <td>1</td>\n",
       "      <td>358.0</td>\n",
       "      <td>358.0</td>\n",
       "    </tr>\n",
       "    <tr>\n",
       "      <th>1</th>\n",
       "      <td>1</td>\n",
       "      <td>01/01/2019</td>\n",
       "      <td>Iguatemi Esplanada</td>\n",
       "      <td>Camiseta</td>\n",
       "      <td>2</td>\n",
       "      <td>180.0</td>\n",
       "      <td>360.0</td>\n",
       "    </tr>\n",
       "    <tr>\n",
       "      <th>2</th>\n",
       "      <td>1</td>\n",
       "      <td>01/01/2019</td>\n",
       "      <td>Iguatemi Esplanada</td>\n",
       "      <td>Sapato Xadrez</td>\n",
       "      <td>1</td>\n",
       "      <td>368.0</td>\n",
       "      <td>368.0</td>\n",
       "    </tr>\n",
       "    <tr>\n",
       "      <th>3</th>\n",
       "      <td>2</td>\n",
       "      <td>02/01/2019</td>\n",
       "      <td>Norte Shopping</td>\n",
       "      <td>Relógio</td>\n",
       "      <td>3</td>\n",
       "      <td>200.0</td>\n",
       "      <td>600.0</td>\n",
       "    </tr>\n",
       "    <tr>\n",
       "      <th>4</th>\n",
       "      <td>2</td>\n",
       "      <td>02/01/2019</td>\n",
       "      <td>Norte Shopping</td>\n",
       "      <td>Chinelo Liso</td>\n",
       "      <td>1</td>\n",
       "      <td>71.0</td>\n",
       "      <td>71.0</td>\n",
       "    </tr>\n",
       "  </tbody>\n",
       "</table>\n",
       "</div>"
      ],
      "text/plain": [
       "   COD_VENDA        DATA             ID_LOJA         PRODUTO  QUANTIDADE  \\\n",
       "0          1  01/01/2019  Iguatemi Esplanada  Sapato Estampa           1   \n",
       "1          1  01/01/2019  Iguatemi Esplanada        Camiseta           2   \n",
       "2          1  01/01/2019  Iguatemi Esplanada   Sapato Xadrez           1   \n",
       "3          2  02/01/2019      Norte Shopping         Relógio           3   \n",
       "4          2  02/01/2019      Norte Shopping    Chinelo Liso           1   \n",
       "\n",
       "   VR_UNIT  VR_FINAL  \n",
       "0    358.0     358.0  \n",
       "1    180.0     360.0  \n",
       "2    368.0     368.0  \n",
       "3    200.0     600.0  \n",
       "4     71.0      71.0  "
      ]
     },
     "execution_count": 19,
     "metadata": {},
     "output_type": "execute_result"
    }
   ],
   "source": [
    "data.head()"
   ]
  },
  {
   "cell_type": "markdown",
   "metadata": {},
   "source": [
    "### Importando biblioteca seaborn"
   ]
  },
  {
   "cell_type": "code",
   "execution_count": 20,
   "metadata": {},
   "outputs": [],
   "source": [
    "import seaborn as sb\n",
    "low_memory=False\n",
    "%matplotlib inline\n",
    "pd.options.display.max_columns = 80\n",
    "pd.options.display.max_rows = 90"
   ]
  },
  {
   "cell_type": "markdown",
   "metadata": {},
   "source": [
    "### Soma de vendas de todas as lojas"
   ]
  },
  {
   "cell_type": "code",
   "execution_count": 21,
   "metadata": {
    "scrolled": false
   },
   "outputs": [
    {
     "data": {
      "text/plain": [
       "41877063.0"
      ]
     },
     "metadata": {},
     "output_type": "display_data"
    }
   ],
   "source": [
    "venda_total = round(data.VR_FINAL.sum(),2)\n",
    "display(venda_total)"
   ]
  },
  {
   "cell_type": "markdown",
   "metadata": {},
   "source": [
    "### Soma de vendas de cada loja"
   ]
  },
  {
   "cell_type": "code",
   "execution_count": 22,
   "metadata": {
    "scrolled": true
   },
   "outputs": [
    {
     "data": {
      "text/html": [
       "<div>\n",
       "<style scoped>\n",
       "    .dataframe tbody tr th:only-of-type {\n",
       "        vertical-align: middle;\n",
       "    }\n",
       "\n",
       "    .dataframe tbody tr th {\n",
       "        vertical-align: top;\n",
       "    }\n",
       "\n",
       "    .dataframe thead th {\n",
       "        text-align: right;\n",
       "    }\n",
       "</style>\n",
       "<table border=\"1\" class=\"dataframe\">\n",
       "  <thead>\n",
       "    <tr style=\"text-align: right;\">\n",
       "      <th></th>\n",
       "      <th>VR_FINAL</th>\n",
       "    </tr>\n",
       "    <tr>\n",
       "      <th>ID_LOJA</th>\n",
       "      <th></th>\n",
       "    </tr>\n",
       "  </thead>\n",
       "  <tbody>\n",
       "    <tr>\n",
       "      <th>Shopping Vila Velha</th>\n",
       "      <td>1731167.0</td>\n",
       "    </tr>\n",
       "    <tr>\n",
       "      <th>Shopping União de Osasco</th>\n",
       "      <td>1663770.0</td>\n",
       "    </tr>\n",
       "    <tr>\n",
       "      <th>Shopping SP Market</th>\n",
       "      <td>1721763.0</td>\n",
       "    </tr>\n",
       "    <tr>\n",
       "      <th>Shopping Recife</th>\n",
       "      <td>1624879.0</td>\n",
       "    </tr>\n",
       "    <tr>\n",
       "      <th>Shopping Morumbi</th>\n",
       "      <td>1586444.0</td>\n",
       "    </tr>\n",
       "    <tr>\n",
       "      <th>Shopping Midway Mall</th>\n",
       "      <td>1590441.0</td>\n",
       "    </tr>\n",
       "    <tr>\n",
       "      <th>Shopping Iguatemi Fortaleza</th>\n",
       "      <td>1674824.0</td>\n",
       "    </tr>\n",
       "    <tr>\n",
       "      <th>Shopping Ibirapuera</th>\n",
       "      <td>1635060.0</td>\n",
       "    </tr>\n",
       "    <tr>\n",
       "      <th>Shopping Eldorado</th>\n",
       "      <td>1648111.0</td>\n",
       "    </tr>\n",
       "    <tr>\n",
       "      <th>Shopping Center Leste Aricanduva</th>\n",
       "      <td>1682870.0</td>\n",
       "    </tr>\n",
       "    <tr>\n",
       "      <th>Shopping Center Interlagos</th>\n",
       "      <td>1640486.0</td>\n",
       "    </tr>\n",
       "    <tr>\n",
       "      <th>Shopping Barra</th>\n",
       "      <td>1653103.0</td>\n",
       "    </tr>\n",
       "    <tr>\n",
       "      <th>Salvador Shopping</th>\n",
       "      <td>1646739.0</td>\n",
       "    </tr>\n",
       "    <tr>\n",
       "      <th>Rio Mar Shopping Fortaleza</th>\n",
       "      <td>1698430.0</td>\n",
       "    </tr>\n",
       "    <tr>\n",
       "      <th>Rio Mar Recife</th>\n",
       "      <td>1722766.0</td>\n",
       "    </tr>\n",
       "    <tr>\n",
       "      <th>Ribeirão Shopping</th>\n",
       "      <td>1707122.0</td>\n",
       "    </tr>\n",
       "    <tr>\n",
       "      <th>Passei das Águas Shopping</th>\n",
       "      <td>1649014.0</td>\n",
       "    </tr>\n",
       "    <tr>\n",
       "      <th>Parque Dom Pedro Shopping</th>\n",
       "      <td>1631630.0</td>\n",
       "    </tr>\n",
       "    <tr>\n",
       "      <th>Palladium Shopping Curitiba</th>\n",
       "      <td>1721120.0</td>\n",
       "    </tr>\n",
       "    <tr>\n",
       "      <th>Novo Shopping Ribeirão Preto</th>\n",
       "      <td>1678225.0</td>\n",
       "    </tr>\n",
       "    <tr>\n",
       "      <th>Norte Shopping</th>\n",
       "      <td>1711968.0</td>\n",
       "    </tr>\n",
       "    <tr>\n",
       "      <th>Iguatemi Esplanada</th>\n",
       "      <td>1699681.0</td>\n",
       "    </tr>\n",
       "    <tr>\n",
       "      <th>Iguatemi Campinas</th>\n",
       "      <td>1762419.0</td>\n",
       "    </tr>\n",
       "    <tr>\n",
       "      <th>Center Shopping Uberlândia</th>\n",
       "      <td>1668921.0</td>\n",
       "    </tr>\n",
       "    <tr>\n",
       "      <th>Bourbon Shopping SP</th>\n",
       "      <td>1726110.0</td>\n",
       "    </tr>\n",
       "  </tbody>\n",
       "</table>\n",
       "</div>"
      ],
      "text/plain": [
       "                                   VR_FINAL\n",
       "ID_LOJA                                    \n",
       "Shopping Vila Velha               1731167.0\n",
       "Shopping União de Osasco          1663770.0\n",
       "Shopping SP Market                1721763.0\n",
       "Shopping Recife                   1624879.0\n",
       "Shopping Morumbi                  1586444.0\n",
       "Shopping Midway Mall              1590441.0\n",
       "Shopping Iguatemi Fortaleza       1674824.0\n",
       "Shopping Ibirapuera               1635060.0\n",
       "Shopping Eldorado                 1648111.0\n",
       "Shopping Center Leste Aricanduva  1682870.0\n",
       "Shopping Center Interlagos        1640486.0\n",
       "Shopping Barra                    1653103.0\n",
       "Salvador Shopping                 1646739.0\n",
       "Rio Mar Shopping Fortaleza        1698430.0\n",
       "Rio Mar Recife                    1722766.0\n",
       "Ribeirão Shopping                 1707122.0\n",
       "Passei das Águas Shopping         1649014.0\n",
       "Parque Dom Pedro Shopping         1631630.0\n",
       "Palladium Shopping Curitiba       1721120.0\n",
       "Novo Shopping Ribeirão Preto      1678225.0\n",
       "Norte Shopping                    1711968.0\n",
       "Iguatemi Esplanada                1699681.0\n",
       "Iguatemi Campinas                 1762419.0\n",
       "Center Shopping Uberlândia        1668921.0\n",
       "Bourbon Shopping SP               1726110.0"
      ]
     },
     "metadata": {},
     "output_type": "display_data"
    }
   ],
   "source": [
    "venda_loja = data[['ID_LOJA', 'VR_FINAL']].groupby('ID_LOJA').sum()\n",
    "venda_loja = venda_loja.sort_values(by='ID_LOJA', ascending=False)\n",
    "display(venda_loja)"
   ]
  },
  {
   "cell_type": "markdown",
   "metadata": {},
   "source": [
    "### Soma da quantidade de vendas de cada loja"
   ]
  },
  {
   "cell_type": "code",
   "execution_count": 23,
   "metadata": {
    "scrolled": true
   },
   "outputs": [
    {
     "data": {
      "text/html": [
       "<div>\n",
       "<style scoped>\n",
       "    .dataframe tbody tr th:only-of-type {\n",
       "        vertical-align: middle;\n",
       "    }\n",
       "\n",
       "    .dataframe tbody tr th {\n",
       "        vertical-align: top;\n",
       "    }\n",
       "\n",
       "    .dataframe thead th {\n",
       "        text-align: right;\n",
       "    }\n",
       "</style>\n",
       "<table border=\"1\" class=\"dataframe\">\n",
       "  <thead>\n",
       "    <tr style=\"text-align: right;\">\n",
       "      <th></th>\n",
       "      <th>QUANTIDADE</th>\n",
       "    </tr>\n",
       "    <tr>\n",
       "      <th>ID_LOJA</th>\n",
       "      <th></th>\n",
       "    </tr>\n",
       "  </thead>\n",
       "  <tbody>\n",
       "    <tr>\n",
       "      <th>Shopping Vila Velha</th>\n",
       "      <td>9224</td>\n",
       "    </tr>\n",
       "    <tr>\n",
       "      <th>Shopping União de Osasco</th>\n",
       "      <td>8730</td>\n",
       "    </tr>\n",
       "    <tr>\n",
       "      <th>Shopping SP Market</th>\n",
       "      <td>8927</td>\n",
       "    </tr>\n",
       "    <tr>\n",
       "      <th>Shopping Recife</th>\n",
       "      <td>8581</td>\n",
       "    </tr>\n",
       "    <tr>\n",
       "      <th>Shopping Morumbi</th>\n",
       "      <td>8508</td>\n",
       "    </tr>\n",
       "    <tr>\n",
       "      <th>Shopping Midway Mall</th>\n",
       "      <td>8206</td>\n",
       "    </tr>\n",
       "    <tr>\n",
       "      <th>Shopping Iguatemi Fortaleza</th>\n",
       "      <td>8629</td>\n",
       "    </tr>\n",
       "    <tr>\n",
       "      <th>Shopping Ibirapuera</th>\n",
       "      <td>8723</td>\n",
       "    </tr>\n",
       "    <tr>\n",
       "      <th>Shopping Eldorado</th>\n",
       "      <td>8719</td>\n",
       "    </tr>\n",
       "    <tr>\n",
       "      <th>Shopping Center Leste Aricanduva</th>\n",
       "      <td>8938</td>\n",
       "    </tr>\n",
       "    <tr>\n",
       "      <th>Shopping Center Interlagos</th>\n",
       "      <td>8675</td>\n",
       "    </tr>\n",
       "    <tr>\n",
       "      <th>Shopping Barra</th>\n",
       "      <td>8638</td>\n",
       "    </tr>\n",
       "    <tr>\n",
       "      <th>Salvador Shopping</th>\n",
       "      <td>8698</td>\n",
       "    </tr>\n",
       "    <tr>\n",
       "      <th>Rio Mar Shopping Fortaleza</th>\n",
       "      <td>8937</td>\n",
       "    </tr>\n",
       "    <tr>\n",
       "      <th>Rio Mar Recife</th>\n",
       "      <td>8863</td>\n",
       "    </tr>\n",
       "    <tr>\n",
       "      <th>Ribeirão Shopping</th>\n",
       "      <td>8825</td>\n",
       "    </tr>\n",
       "    <tr>\n",
       "      <th>Passei das Águas Shopping</th>\n",
       "      <td>8618</td>\n",
       "    </tr>\n",
       "    <tr>\n",
       "      <th>Parque Dom Pedro Shopping</th>\n",
       "      <td>8388</td>\n",
       "    </tr>\n",
       "    <tr>\n",
       "      <th>Palladium Shopping Curitiba</th>\n",
       "      <td>9091</td>\n",
       "    </tr>\n",
       "    <tr>\n",
       "      <th>Novo Shopping Ribeirão Preto</th>\n",
       "      <td>8751</td>\n",
       "    </tr>\n",
       "    <tr>\n",
       "      <th>Norte Shopping</th>\n",
       "      <td>9014</td>\n",
       "    </tr>\n",
       "    <tr>\n",
       "      <th>Iguatemi Esplanada</th>\n",
       "      <td>8580</td>\n",
       "    </tr>\n",
       "    <tr>\n",
       "      <th>Iguatemi Campinas</th>\n",
       "      <td>8935</td>\n",
       "    </tr>\n",
       "    <tr>\n",
       "      <th>Center Shopping Uberlândia</th>\n",
       "      <td>8627</td>\n",
       "    </tr>\n",
       "    <tr>\n",
       "      <th>Bourbon Shopping SP</th>\n",
       "      <td>8863</td>\n",
       "    </tr>\n",
       "  </tbody>\n",
       "</table>\n",
       "</div>"
      ],
      "text/plain": [
       "                                  QUANTIDADE\n",
       "ID_LOJA                                     \n",
       "Shopping Vila Velha                     9224\n",
       "Shopping União de Osasco                8730\n",
       "Shopping SP Market                      8927\n",
       "Shopping Recife                         8581\n",
       "Shopping Morumbi                        8508\n",
       "Shopping Midway Mall                    8206\n",
       "Shopping Iguatemi Fortaleza             8629\n",
       "Shopping Ibirapuera                     8723\n",
       "Shopping Eldorado                       8719\n",
       "Shopping Center Leste Aricanduva        8938\n",
       "Shopping Center Interlagos              8675\n",
       "Shopping Barra                          8638\n",
       "Salvador Shopping                       8698\n",
       "Rio Mar Shopping Fortaleza              8937\n",
       "Rio Mar Recife                          8863\n",
       "Ribeirão Shopping                       8825\n",
       "Passei das Águas Shopping               8618\n",
       "Parque Dom Pedro Shopping               8388\n",
       "Palladium Shopping Curitiba             9091\n",
       "Novo Shopping Ribeirão Preto            8751\n",
       "Norte Shopping                          9014\n",
       "Iguatemi Esplanada                      8580\n",
       "Iguatemi Campinas                       8935\n",
       "Center Shopping Uberlândia              8627\n",
       "Bourbon Shopping SP                     8863"
      ]
     },
     "metadata": {},
     "output_type": "display_data"
    }
   ],
   "source": [
    "quantidade_loja = data[['ID_LOJA', 'QUANTIDADE']].groupby('ID_LOJA').sum()\n",
    "quantidade_loja = quantidade_loja.sort_values(by='ID_LOJA', ascending=False)\n",
    "display(quantidade_loja)"
   ]
  },
  {
   "cell_type": "markdown",
   "metadata": {},
   "source": [
    "### Média de valor de cada venda em cada loja"
   ]
  },
  {
   "cell_type": "code",
   "execution_count": 24,
   "metadata": {
    "scrolled": true
   },
   "outputs": [
    {
     "data": {
      "text/html": [
       "<div>\n",
       "<style scoped>\n",
       "    .dataframe tbody tr th:only-of-type {\n",
       "        vertical-align: middle;\n",
       "    }\n",
       "\n",
       "    .dataframe tbody tr th {\n",
       "        vertical-align: top;\n",
       "    }\n",
       "\n",
       "    .dataframe thead th {\n",
       "        text-align: right;\n",
       "    }\n",
       "</style>\n",
       "<table border=\"1\" class=\"dataframe\">\n",
       "  <thead>\n",
       "    <tr style=\"text-align: right;\">\n",
       "      <th></th>\n",
       "      <th>VENDA_MEDIA</th>\n",
       "    </tr>\n",
       "    <tr>\n",
       "      <th>ID_LOJA</th>\n",
       "      <th></th>\n",
       "    </tr>\n",
       "  </thead>\n",
       "  <tbody>\n",
       "    <tr>\n",
       "      <th>Iguatemi Esplanada</th>\n",
       "      <td>198.098019</td>\n",
       "    </tr>\n",
       "    <tr>\n",
       "      <th>Iguatemi Campinas</th>\n",
       "      <td>197.248909</td>\n",
       "    </tr>\n",
       "    <tr>\n",
       "      <th>Bourbon Shopping SP</th>\n",
       "      <td>194.754598</td>\n",
       "    </tr>\n",
       "    <tr>\n",
       "      <th>Parque Dom Pedro Shopping</th>\n",
       "      <td>194.519552</td>\n",
       "    </tr>\n",
       "    <tr>\n",
       "      <th>Rio Mar Recife</th>\n",
       "      <td>194.377299</td>\n",
       "    </tr>\n",
       "    <tr>\n",
       "      <th>Shopping Iguatemi Fortaleza</th>\n",
       "      <td>194.092479</td>\n",
       "    </tr>\n",
       "    <tr>\n",
       "      <th>Shopping Midway Mall</th>\n",
       "      <td>193.814404</td>\n",
       "    </tr>\n",
       "    <tr>\n",
       "      <th>Center Shopping Uberlândia</th>\n",
       "      <td>193.453228</td>\n",
       "    </tr>\n",
       "    <tr>\n",
       "      <th>Ribeirão Shopping</th>\n",
       "      <td>193.441586</td>\n",
       "    </tr>\n",
       "    <tr>\n",
       "      <th>Shopping SP Market</th>\n",
       "      <td>192.871401</td>\n",
       "    </tr>\n",
       "    <tr>\n",
       "      <th>Novo Shopping Ribeirão Preto</th>\n",
       "      <td>191.775226</td>\n",
       "    </tr>\n",
       "    <tr>\n",
       "      <th>Shopping Barra</th>\n",
       "      <td>191.375666</td>\n",
       "    </tr>\n",
       "    <tr>\n",
       "      <th>Passei das Águas Shopping</th>\n",
       "      <td>191.345324</td>\n",
       "    </tr>\n",
       "    <tr>\n",
       "      <th>Shopping União de Osasco</th>\n",
       "      <td>190.580756</td>\n",
       "    </tr>\n",
       "    <tr>\n",
       "      <th>Rio Mar Shopping Fortaleza</th>\n",
       "      <td>190.044758</td>\n",
       "    </tr>\n",
       "    <tr>\n",
       "      <th>Norte Shopping</th>\n",
       "      <td>189.923231</td>\n",
       "    </tr>\n",
       "    <tr>\n",
       "      <th>Shopping Recife</th>\n",
       "      <td>189.357767</td>\n",
       "    </tr>\n",
       "    <tr>\n",
       "      <th>Salvador Shopping</th>\n",
       "      <td>189.323868</td>\n",
       "    </tr>\n",
       "    <tr>\n",
       "      <th>Palladium Shopping Curitiba</th>\n",
       "      <td>189.321307</td>\n",
       "    </tr>\n",
       "    <tr>\n",
       "      <th>Shopping Center Interlagos</th>\n",
       "      <td>189.105014</td>\n",
       "    </tr>\n",
       "    <tr>\n",
       "      <th>Shopping Eldorado</th>\n",
       "      <td>189.025232</td>\n",
       "    </tr>\n",
       "    <tr>\n",
       "      <th>Shopping Center Leste Aricanduva</th>\n",
       "      <td>188.282614</td>\n",
       "    </tr>\n",
       "    <tr>\n",
       "      <th>Shopping Vila Velha</th>\n",
       "      <td>187.680724</td>\n",
       "    </tr>\n",
       "    <tr>\n",
       "      <th>Shopping Ibirapuera</th>\n",
       "      <td>187.442394</td>\n",
       "    </tr>\n",
       "    <tr>\n",
       "      <th>Shopping Morumbi</th>\n",
       "      <td>186.464974</td>\n",
       "    </tr>\n",
       "  </tbody>\n",
       "</table>\n",
       "</div>"
      ],
      "text/plain": [
       "                                  VENDA_MEDIA\n",
       "ID_LOJA                                      \n",
       "Iguatemi Esplanada                 198.098019\n",
       "Iguatemi Campinas                  197.248909\n",
       "Bourbon Shopping SP                194.754598\n",
       "Parque Dom Pedro Shopping          194.519552\n",
       "Rio Mar Recife                     194.377299\n",
       "Shopping Iguatemi Fortaleza        194.092479\n",
       "Shopping Midway Mall               193.814404\n",
       "Center Shopping Uberlândia         193.453228\n",
       "Ribeirão Shopping                  193.441586\n",
       "Shopping SP Market                 192.871401\n",
       "Novo Shopping Ribeirão Preto       191.775226\n",
       "Shopping Barra                     191.375666\n",
       "Passei das Águas Shopping          191.345324\n",
       "Shopping União de Osasco           190.580756\n",
       "Rio Mar Shopping Fortaleza         190.044758\n",
       "Norte Shopping                     189.923231\n",
       "Shopping Recife                    189.357767\n",
       "Salvador Shopping                  189.323868\n",
       "Palladium Shopping Curitiba        189.321307\n",
       "Shopping Center Interlagos         189.105014\n",
       "Shopping Eldorado                  189.025232\n",
       "Shopping Center Leste Aricanduva   188.282614\n",
       "Shopping Vila Velha                187.680724\n",
       "Shopping Ibirapuera                187.442394\n",
       "Shopping Morumbi                   186.464974"
      ]
     },
     "metadata": {},
     "output_type": "display_data"
    }
   ],
   "source": [
    "venda_media = (venda_loja['VR_FINAL'] / quantidade_loja['QUANTIDADE']).to_frame()\n",
    "venda_media = venda_media.rename(columns={0: 'VENDA_MEDIA'})\n",
    "venda_media = venda_media.sort_values(by='VENDA_MEDIA', ascending=False)\n",
    "display(venda_media)"
   ]
  },
  {
   "cell_type": "markdown",
   "metadata": {},
   "source": [
    "### Gráfico de barra com o comparativo de vendas de cada loja"
   ]
  },
  {
   "cell_type": "code",
   "execution_count": 25,
   "metadata": {
    "scrolled": false
   },
   "outputs": [
    {
     "data": {
      "text/plain": [
       "<AxesSubplot:title={'center':'VENDA POR LOJA'}, xlabel='ID_LOJA'>"
      ]
     },
     "execution_count": 25,
     "metadata": {},
     "output_type": "execute_result"
    },
    {
     "data": {
      "image/png": "[encoded data removed]",
      "text/plain": [
       "<Figure size 720x360 with 1 Axes>"
      ]
     },
     "metadata": {
      "needs_background": "light"
     },
     "output_type": "display_data"
    }
   ],
   "source": [
    "venda_loja.groupby('ID_LOJA')['VR_FINAL'].sum().sort_values().tail(13).plot(title='VENDA POR LOJA', kind='bar', figsize=(10,5))"
   ]
  },
  {
   "cell_type": "markdown",
   "metadata": {},
   "source": [
    "### Gráfico de pizza com o comparativo de vendas de cada loja"
   ]
  },
  {
   "cell_type": "code",
   "execution_count": 26,
   "metadata": {},
   "outputs": [
    {
     "data": {
      "text/plain": [
       "<AxesSubplot:title={'center':'VENDA POR LOJA'}, ylabel='VR_FINAL'>"
      ]
     },
     "execution_count": 26,
     "metadata": {},
     "output_type": "execute_result"
    },
    {
     "data": {
      "image/png": "[encoded data removed]",
      "text/plain": [
       "<Figure size 720x360 with 1 Axes>"
      ]
     },
     "metadata": {},
     "output_type": "display_data"
    }
   ],
   "source": [
    "venda_loja.groupby('ID_LOJA')['VR_FINAL'].sum().sort_values().tail(13).plot(title='VENDA POR LOJA', kind='pie', figsize=(10,5))"
   ]
  },
  {
   "cell_type": "markdown",
   "metadata": {},
   "source": [
    "### Dados da quantidade de cada produto vendido"
   ]
  },
  {
   "cell_type": "code",
   "execution_count": 27,
   "metadata": {
    "scrolled": false
   },
   "outputs": [
    {
     "data": {
      "text/html": [
       "<div>\n",
       "<style scoped>\n",
       "    .dataframe tbody tr th:only-of-type {\n",
       "        vertical-align: middle;\n",
       "    }\n",
       "\n",
       "    .dataframe tbody tr th {\n",
       "        vertical-align: top;\n",
       "    }\n",
       "\n",
       "    .dataframe thead th {\n",
       "        text-align: right;\n",
       "    }\n",
       "</style>\n",
       "<table border=\"1\" class=\"dataframe\">\n",
       "  <thead>\n",
       "    <tr style=\"text-align: right;\">\n",
       "      <th></th>\n",
       "      <th>QUANTIDADE</th>\n",
       "    </tr>\n",
       "    <tr>\n",
       "      <th>PRODUTO</th>\n",
       "      <th></th>\n",
       "    </tr>\n",
       "  </thead>\n",
       "  <tbody>\n",
       "    <tr>\n",
       "      <th>Bermuda Linho</th>\n",
       "      <td>2024</td>\n",
       "    </tr>\n",
       "    <tr>\n",
       "      <th>Mochila Liso</th>\n",
       "      <td>2013</td>\n",
       "    </tr>\n",
       "    <tr>\n",
       "      <th>Cueca</th>\n",
       "      <td>1984</td>\n",
       "    </tr>\n",
       "    <tr>\n",
       "      <th>Casaco Liso</th>\n",
       "      <td>1976</td>\n",
       "    </tr>\n",
       "    <tr>\n",
       "      <th>Relógio Listrado</th>\n",
       "      <td>1951</td>\n",
       "    </tr>\n",
       "    <tr>\n",
       "      <th>...</th>\n",
       "      <td>...</td>\n",
       "    </tr>\n",
       "    <tr>\n",
       "      <th>Meia Listrado</th>\n",
       "      <td>1711</td>\n",
       "    </tr>\n",
       "    <tr>\n",
       "      <th>Gorro Estampa</th>\n",
       "      <td>1698</td>\n",
       "    </tr>\n",
       "    <tr>\n",
       "      <th>Meia Xadrez</th>\n",
       "      <td>1693</td>\n",
       "    </tr>\n",
       "    <tr>\n",
       "      <th>Sunga Estampa</th>\n",
       "      <td>1693</td>\n",
       "    </tr>\n",
       "    <tr>\n",
       "      <th>Short Listrado</th>\n",
       "      <td>1647</td>\n",
       "    </tr>\n",
       "  </tbody>\n",
       "</table>\n",
       "<p>120 rows × 1 columns</p>\n",
       "</div>"
      ],
      "text/plain": [
       "                  QUANTIDADE\n",
       "PRODUTO                     \n",
       "Bermuda Linho           2024\n",
       "Mochila Liso            2013\n",
       "Cueca                   1984\n",
       "Casaco Liso             1976\n",
       "Relógio Listrado        1951\n",
       "...                      ...\n",
       "Meia Listrado           1711\n",
       "Gorro Estampa           1698\n",
       "Meia Xadrez             1693\n",
       "Sunga Estampa           1693\n",
       "Short Listrado          1647\n",
       "\n",
       "[120 rows x 1 columns]"
      ]
     },
     "metadata": {},
     "output_type": "display_data"
    }
   ],
   "source": [
    "produto_vendido = data[['PRODUTO', 'QUANTIDADE']].groupby('PRODUTO').sum()\n",
    "produto_vendido = produto_vendido.sort_values(by='QUANTIDADE', ascending=False)\n",
    "display(produto_vendido)"
   ]
  },
  {
   "cell_type": "markdown",
   "metadata": {},
   "source": [
    "### Soma do valor de vendas de cada produto"
   ]
  },
  {
   "cell_type": "code",
   "execution_count": 28,
   "metadata": {
    "scrolled": true
   },
   "outputs": [
    {
     "data": {
      "text/html": [
       "<div>\n",
       "<style scoped>\n",
       "    .dataframe tbody tr th:only-of-type {\n",
       "        vertical-align: middle;\n",
       "    }\n",
       "\n",
       "    .dataframe tbody tr th {\n",
       "        vertical-align: top;\n",
       "    }\n",
       "\n",
       "    .dataframe thead th {\n",
       "        text-align: right;\n",
       "    }\n",
       "</style>\n",
       "<table border=\"1\" class=\"dataframe\">\n",
       "  <thead>\n",
       "    <tr style=\"text-align: right;\">\n",
       "      <th></th>\n",
       "      <th>VR_FINAL</th>\n",
       "    </tr>\n",
       "    <tr>\n",
       "      <th>PRODUTO</th>\n",
       "      <th></th>\n",
       "    </tr>\n",
       "  </thead>\n",
       "  <tbody>\n",
       "    <tr>\n",
       "      <th>Terno Listrado</th>\n",
       "      <td>1308814.0</td>\n",
       "    </tr>\n",
       "    <tr>\n",
       "      <th>Terno Linho</th>\n",
       "      <td>1305750.0</td>\n",
       "    </tr>\n",
       "    <tr>\n",
       "      <th>Terno Liso</th>\n",
       "      <td>1279440.0</td>\n",
       "    </tr>\n",
       "    <tr>\n",
       "      <th>Terno Xadrez</th>\n",
       "      <td>1240750.0</td>\n",
       "    </tr>\n",
       "    <tr>\n",
       "      <th>Terno Estampa</th>\n",
       "      <td>1237618.0</td>\n",
       "    </tr>\n",
       "    <tr>\n",
       "      <th>...</th>\n",
       "      <td>...</td>\n",
       "    </tr>\n",
       "    <tr>\n",
       "      <th>Meia Estampa</th>\n",
       "      <td>94650.0</td>\n",
       "    </tr>\n",
       "    <tr>\n",
       "      <th>Meia Xadrez</th>\n",
       "      <td>69413.0</td>\n",
       "    </tr>\n",
       "    <tr>\n",
       "      <th>Meia Liso</th>\n",
       "      <td>68210.0</td>\n",
       "    </tr>\n",
       "    <tr>\n",
       "      <th>Meia Listrado</th>\n",
       "      <td>63307.0</td>\n",
       "    </tr>\n",
       "    <tr>\n",
       "      <th>Meia</th>\n",
       "      <td>54810.0</td>\n",
       "    </tr>\n",
       "  </tbody>\n",
       "</table>\n",
       "<p>120 rows × 1 columns</p>\n",
       "</div>"
      ],
      "text/plain": [
       "                 VR_FINAL\n",
       "PRODUTO                  \n",
       "Terno Listrado  1308814.0\n",
       "Terno Linho     1305750.0\n",
       "Terno Liso      1279440.0\n",
       "Terno Xadrez    1240750.0\n",
       "Terno Estampa   1237618.0\n",
       "...                   ...\n",
       "Meia Estampa      94650.0\n",
       "Meia Xadrez       69413.0\n",
       "Meia Liso         68210.0\n",
       "Meia Listrado     63307.0\n",
       "Meia              54810.0\n",
       "\n",
       "[120 rows x 1 columns]"
      ]
     },
     "metadata": {},
     "output_type": "display_data"
    }
   ],
   "source": [
    "produto_faturamento = data[['PRODUTO', 'VR_FINAL']].groupby('PRODUTO').sum()\n",
    "produto_faturamento = produto_faturamento.sort_values(by='VR_FINAL', ascending=False)\n",
    "display(produto_faturamento)"
   ]
  }
 ],
 "metadata": {
  "kernelspec": {
   "display_name": "Python 3",
   "language": "python",
   "name": "python3"
  },
  "language_info": {
   "codemirror_mode": {
    "name": "ipython",
    "version": 3
   },
   "file_extension": ".py",
   "mimetype": "text/x-python",
   "name": "python",
   "nbconvert_exporter": "python",
   "pygments_lexer": "ipython3",
   "version": "3.8.5"
  }
 },
 "nbformat": 4,
 "nbformat_minor": 4
}
